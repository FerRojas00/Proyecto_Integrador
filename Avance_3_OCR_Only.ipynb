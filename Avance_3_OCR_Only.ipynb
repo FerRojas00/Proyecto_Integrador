{
 "cells": [
  {
   "cell_type": "code",
   "execution_count": null,
   "id": "cf46dd92-a9c8-4bdd-a752-320354198cd2",
   "metadata": {},
   "outputs": [],
   "source": [
    "#TEST Getting Information\n",
    "#DATE 13 May 2025\n",
    "\n",
    "#Version 1.3 - Funcional para avance\n",
    "\n",
    "'''\n",
    "# Esta version incluye: \n",
    "1. Procesamiento de la foto con EASYOCR\n",
    "2. Creacion del Df\n",
    "3. Obtencion de valores separados o juntos\n",
    "\n",
    "Excluye:\n",
    "4. Excluye visualizaciones\n",
    "5. Excluye control de palabras similares\n",
    "\n",
    "\n",
    "\n",
    "\n",
    "CONTIENE: \n",
    "A. Primera version de obtención de valores\n",
    "'''"
   ]
  },
  {
   "cell_type": "code",
   "execution_count": 2,
   "id": "aa7bbd93-bfae-45f7-8199-dc59c60b6d2e",
   "metadata": {},
   "outputs": [],
   "source": [
    "import os\n",
    "import numpy as np\n",
    "import easyocr\n",
    "import pandas as pd #Para Dataframes y manipulacion de los valores\n",
    "import re           #Manipulacion de caracteres"
   ]
  },
  {
   "cell_type": "code",
   "execution_count": 3,
   "id": "ffcf5fe0-acd1-49cf-8f54-617a9a112586",
   "metadata": {},
   "outputs": [
    {
     "name": "stdout",
     "output_type": "stream",
     "text": [
      "Esta la imagen? True\n"
     ]
    }
   ],
   "source": [
    "#image_path = '/Users/fer/Downloads/Proyecto Integrador (DEL)/All photos/Fotos_Etiquetas_1/1741038478979.jpg'  #Tiene REF, LOT, GTIN\n",
    "image_path = '/Users/fer/Downloads/Proyecto Integrador (DEL)/All photos/Fotos_Etiquetas_1/1741038479261.jpg'   #Tiene REF, LOT\n",
    "\n",
    "print(\"Esta la imagen?\", os.path.exists(image_path)) ##Confirmar si la imagen existe\n"
   ]
  },
  {
   "cell_type": "code",
   "execution_count": 4,
   "id": "db480244-34a6-44df-8ded-69b4eef7ff67",
   "metadata": {},
   "outputs": [
    {
     "data": {
      "text/html": [
       "<div>\n",
       "<style scoped>\n",
       "    .dataframe tbody tr th:only-of-type {\n",
       "        vertical-align: middle;\n",
       "    }\n",
       "\n",
       "    .dataframe tbody tr th {\n",
       "        vertical-align: top;\n",
       "    }\n",
       "\n",
       "    .dataframe thead th {\n",
       "        text-align: right;\n",
       "    }\n",
       "</style>\n",
       "<table border=\"1\" class=\"dataframe\">\n",
       "  <thead>\n",
       "    <tr style=\"text-align: right;\">\n",
       "      <th></th>\n",
       "      <th>0</th>\n",
       "      <th>1</th>\n",
       "      <th>2</th>\n",
       "    </tr>\n",
       "  </thead>\n",
       "  <tbody>\n",
       "    <tr>\n",
       "      <th>0</th>\n",
       "      <td>[[1907, 849], [2519, 849], [2519, 948], [1907,...</td>\n",
       "      <td>Bottle Set small</td>\n",
       "      <td>0.766554</td>\n",
       "    </tr>\n",
       "    <tr>\n",
       "      <th>1</th>\n",
       "      <td>[[1920, 989], [2032, 989], [2032, 1056], [1920...</td>\n",
       "      <td>REF</td>\n",
       "      <td>0.999810</td>\n",
       "    </tr>\n",
       "    <tr>\n",
       "      <th>2</th>\n",
       "      <td>[[2055, 971], [2588, 971], [2588, 1080], [2055...</td>\n",
       "      <td>(240)07254733190</td>\n",
       "      <td>0.830424</td>\n",
       "    </tr>\n",
       "    <tr>\n",
       "      <th>3</th>\n",
       "      <td>[[1917, 1113], [2019, 1113], [2019, 1174], [19...</td>\n",
       "      <td>LOT</td>\n",
       "      <td>0.640695</td>\n",
       "    </tr>\n",
       "    <tr>\n",
       "      <th>4</th>\n",
       "      <td>[[2056, 1095], [2360, 1095], [2360, 1182], [20...</td>\n",
       "      <td>(10)81259101</td>\n",
       "      <td>0.703669</td>\n",
       "    </tr>\n",
       "  </tbody>\n",
       "</table>\n",
       "</div>"
      ],
      "text/plain": [
       "                                                   0                 1  \\\n",
       "0  [[1907, 849], [2519, 849], [2519, 948], [1907,...  Bottle Set small   \n",
       "1  [[1920, 989], [2032, 989], [2032, 1056], [1920...               REF   \n",
       "2  [[2055, 971], [2588, 971], [2588, 1080], [2055...  (240)07254733190   \n",
       "3  [[1917, 1113], [2019, 1113], [2019, 1174], [19...               LOT   \n",
       "4  [[2056, 1095], [2360, 1095], [2360, 1182], [20...      (10)81259101   \n",
       "\n",
       "          2  \n",
       "0  0.766554  \n",
       "1  0.999810  \n",
       "2  0.830424  \n",
       "3  0.640695  \n",
       "4  0.703669  "
      ]
     },
     "execution_count": 4,
     "metadata": {},
     "output_type": "execute_result"
    }
   ],
   "source": [
    "###################\n",
    "# SECCION 1: Obtencion de Texto usando EasyOCR y creacion del DF\n",
    "###################\n",
    "#Crear lector de EasyOCR\n",
    "reader = easyocr.Reader(['es', 'en'])  #Español e ingles por lo pronto\n",
    "\n",
    "results = reader.readtext(image_path)  #Leer texto desde la imagen\n",
    "\n",
    "results_df = pd.DataFrame(results)     #Crear dataframe para procesamiento\n",
    "results_df.head()\n"
   ]
  },
  {
   "cell_type": "code",
   "execution_count": 6,
   "id": "cc2ff3d9-d313-44b8-bdea-a8e5e8842aa5",
   "metadata": {},
   "outputs": [],
   "source": [
    "###### Funcion para extraer fechas en formato AAAA-MM-DD\n",
    "def extraer_valores_por_tag(results_df):\n",
    "    #Uso de Regex para el formato de fecha\n",
    "    fecha_patron = r\"\\b\\d{4}-\\d{2}-\\d{2}\\b\"\n",
    "    fechas = []\n",
    "\n",
    "    #Ciclo FOR sobre los textos extraidos\n",
    "    for idx, texto in results_df[1].items():\n",
    "        if pd.isna(texto):\n",
    "            continue\n",
    "        #Buscar fechas en el textoo\n",
    "        fechas_encontradas = re.findall(fecha_patron, texto)\n",
    "        # Agregar fechas encontradas\n",
    "        fechas.extend(fechas_encontradas)\n",
    "\n",
    "    # Eliminar duplicados y ordenar por fecha\n",
    "    fechas = sorted(list(set(fechas)))\n",
    "\n",
    "    # Determinar FAB y CAD\n",
    "    fab_fecha = fechas[0] if len(fechas) > 0 else \"NA\"\n",
    "    cad_fecha = fechas[1] if len(fechas) > 1 else \"NA\"\n",
    "\n",
    "    return fab_fecha, cad_fecha\n",
    "\n",
    "##### Funcion para buscar valores por etiquetas\n",
    "def extraer_valores_por_tag(results_df, tags):\n",
    "    valores = {tag: \"NA\" for tag in tags}\n",
    "\n",
    "    for tag in tags:\n",
    "        for idx, texto in results_df[1].items():\n",
    "            if pd.isna(texto):\n",
    "                continue\n",
    "\n",
    "            #Se limpia el texto para comparacion\n",
    "            clean_texto = texto.upper().replace(\"[\", \"\").replace(\"]\", \"\")\n",
    "\n",
    "            #Caso 1: Si es exactamente igual (etiqueta sola), tomamos siguiente entrada\n",
    "            if clean_texto.strip() == tag:\n",
    "                if idx + 1 in results_df.index:\n",
    "                    valores[tag] = results_df.loc[idx + 1, 1]\n",
    "                break\n",
    "\n",
    "            #Caso 2: Si la etiqueta viene combinada con el valor\n",
    "            elif tag in clean_texto:\n",
    "                match = re.search(rf\"{tag}\\s*[:\\-]?\\s*([A-Z0-9]+)\", clean_texto)\n",
    "                if match:\n",
    "                    valores[tag] = match.group(1)\n",
    "                    break\n",
    "                partes = clean_texto.split()\n",
    "                if len(partes) > 1 and tag in partes[0]:\n",
    "                    valores[tag] = partes[1]\n",
    "                    break\n",
    "\n",
    "    return valores"
   ]
  },
  {
   "cell_type": "code",
   "execution_count": 10,
   "id": "727b65b2-bbe8-467e-a3a4-11c2778214d9",
   "metadata": {},
   "outputs": [
    {
     "name": "stdout",
     "output_type": "stream",
     "text": [
      "Valores encontrados: {'REF': '(240)07254733190', 'LOT': '(10)81259101'}\n",
      "Fecha de Fabricacion (FAB): 2024-08-02\n",
      "Fecha de Caducidad(CAD): 2027-05-31\n"
     ]
    }
   ],
   "source": [
    "###################\n",
    "# SECCION 2: Obtencion de valores desde el DF\n",
    "###################\n",
    "\n",
    "tags_list = [\"REF\", \"LOT\"]\n",
    "tags_valores = extraer_valores_por_tag(results_df, tags_list)\n",
    "print(\"Valores encontrados:\", tags_valores)\n",
    "\n",
    "fab_fecha, cad_fecha = extraer_fechas(results_df)\n",
    "print(\"Fecha de Fabricacion (FAB):\", fab_fecha)\n",
    "print(\"Fecha de Caducidad(CAD):\", cad_fecha)"
   ]
  },
  {
   "cell_type": "code",
   "execution_count": null,
   "id": "24c73f4f-c7b0-433b-825c-4d05d4f92edc",
   "metadata": {},
   "outputs": [],
   "source": []
  }
 ],
 "metadata": {
  "kernelspec": {
   "display_name": "Python 3 (ipykernel)",
   "language": "python",
   "name": "python3"
  },
  "language_info": {
   "codemirror_mode": {
    "name": "ipython",
    "version": 3
   },
   "file_extension": ".py",
   "mimetype": "text/x-python",
   "name": "python",
   "nbconvert_exporter": "python",
   "pygments_lexer": "ipython3",
   "version": "3.12.0"
  }
 },
 "nbformat": 4,
 "nbformat_minor": 5
}
